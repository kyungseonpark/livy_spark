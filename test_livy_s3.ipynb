{
 "cells": [
  {
   "cell_type": "code",
   "execution_count": 1,
   "metadata": {
    "collapsed": true,
    "ExecuteTime": {
     "end_time": "2023-09-05T06:00:36.705295Z",
     "start_time": "2023-09-05T06:00:36.609860Z"
    }
   },
   "outputs": [],
   "source": [
    "import json, pprint, requests, textwrap"
   ]
  },
  {
   "cell_type": "code",
   "execution_count": 83,
   "outputs": [],
   "source": [
    "host = 'http://localhost:8998'\n",
    "data = {'kind': 'pyspark'}\n",
    "headers = {'Content-Type': 'application/json'}"
   ],
   "metadata": {
    "collapsed": false,
    "ExecuteTime": {
     "end_time": "2023-09-06T02:34:26.558046Z",
     "start_time": "2023-09-06T02:34:26.546150Z"
    }
   }
  },
  {
   "cell_type": "code",
   "execution_count": 84,
   "outputs": [
    {
     "data": {
      "text/plain": "{'id': 0,\n 'name': None,\n 'appId': None,\n 'owner': None,\n 'proxyUser': None,\n 'state': 'starting',\n 'kind': 'pyspark',\n 'appInfo': {'driverLogUrl': None, 'sparkUiUrl': None},\n 'log': ['stdout: ', '\\nstderr: '],\n 'ttl': None,\n 'driverMemory': None,\n 'driverCores': 0,\n 'executorMemory': None,\n 'executorCores': 0,\n 'conf': {},\n 'archives': [],\n 'files': [],\n 'heartbeatTimeoutInSecond': 0,\n 'jars': [],\n 'numExecutors': 0,\n 'pyFiles': [],\n 'queue': None}"
     },
     "execution_count": 84,
     "metadata": {},
     "output_type": "execute_result"
    }
   ],
   "source": [
    "r = requests.post(host + '/sessions', data=json.dumps(data), headers=headers)\n",
    "r.json()"
   ],
   "metadata": {
    "collapsed": false,
    "ExecuteTime": {
     "end_time": "2023-09-06T02:34:32.947838Z",
     "start_time": "2023-09-06T02:34:27.689951Z"
    }
   }
  },
  {
   "cell_type": "code",
   "execution_count": 89,
   "outputs": [
    {
     "ename": "KeyError",
     "evalue": "'location'",
     "output_type": "error",
     "traceback": [
      "\u001B[0;31m---------------------------------------------------------------------------\u001B[0m",
      "\u001B[0;31mKeyError\u001B[0m                                  Traceback (most recent call last)",
      "Cell \u001B[0;32mIn[89], line 1\u001B[0m\n\u001B[0;32m----> 1\u001B[0m session_url \u001B[38;5;241m=\u001B[39m host \u001B[38;5;241m+\u001B[39m \u001B[43mr\u001B[49m\u001B[38;5;241;43m.\u001B[39;49m\u001B[43mheaders\u001B[49m\u001B[43m[\u001B[49m\u001B[38;5;124;43m'\u001B[39;49m\u001B[38;5;124;43mlocation\u001B[39;49m\u001B[38;5;124;43m'\u001B[39;49m\u001B[43m]\u001B[49m\n",
      "File \u001B[0;32m~/opt/anaconda3/envs/py11_feast/lib/python3.11/site-packages/requests/structures.py:52\u001B[0m, in \u001B[0;36mCaseInsensitiveDict.__getitem__\u001B[0;34m(self, key)\u001B[0m\n\u001B[1;32m     51\u001B[0m \u001B[38;5;28;01mdef\u001B[39;00m \u001B[38;5;21m__getitem__\u001B[39m(\u001B[38;5;28mself\u001B[39m, key):\n\u001B[0;32m---> 52\u001B[0m     \u001B[38;5;28;01mreturn\u001B[39;00m \u001B[38;5;28;43mself\u001B[39;49m\u001B[38;5;241;43m.\u001B[39;49m\u001B[43m_store\u001B[49m\u001B[43m[\u001B[49m\u001B[43mkey\u001B[49m\u001B[38;5;241;43m.\u001B[39;49m\u001B[43mlower\u001B[49m\u001B[43m(\u001B[49m\u001B[43m)\u001B[49m\u001B[43m]\u001B[49m[\u001B[38;5;241m1\u001B[39m]\n",
      "\u001B[0;31mKeyError\u001B[0m: 'location'"
     ]
    }
   ],
   "source": [
    "session_url = host + r.headers['location']"
   ],
   "metadata": {
    "collapsed": false,
    "ExecuteTime": {
     "end_time": "2023-09-06T02:35:02.473270Z",
     "start_time": "2023-09-06T02:35:02.254913Z"
    }
   }
  },
  {
   "cell_type": "code",
   "execution_count": 86,
   "outputs": [
    {
     "name": "stdout",
     "output_type": "stream",
     "text": [
      "http://localhost:8998/sessions/0\n"
     ]
    }
   ],
   "source": [
    "print(session_url)"
   ],
   "metadata": {
    "collapsed": false,
    "ExecuteTime": {
     "end_time": "2023-09-06T02:34:40.150140Z",
     "start_time": "2023-09-06T02:34:40.096456Z"
    }
   }
  },
  {
   "cell_type": "code",
   "execution_count": 88,
   "outputs": [
    {
     "data": {
      "text/plain": "{'id': 0,\n 'name': None,\n 'appId': None,\n 'owner': None,\n 'proxyUser': None,\n 'state': 'starting',\n 'kind': 'pyspark',\n 'appInfo': {'driverLogUrl': None, 'sparkUiUrl': None},\n 'log': ['23/09/06 02:34:45 INFO BlockManager: Initialized BlockManager: BlockManagerId(driver, 483e23731d37, 34773, None)',\n  '23/09/06 02:34:45 INFO StandaloneAppClient$ClientEndpoint: Executor added: app-20230906023445-0000/0 on worker-20230906023355-192.168.80.3-37577 (192.168.80.3:37577) with 1 core(s)',\n  '23/09/06 02:34:45 INFO StandaloneSchedulerBackend: Granted executor ID app-20230906023445-0000/0 on hostPort 192.168.80.3:37577 with 1 core(s), 1024.0 MiB RAM',\n  '23/09/06 02:34:45 INFO StandaloneAppClient$ClientEndpoint: Executor added: app-20230906023445-0000/1 on worker-20230906023355-192.168.80.4-40653 (192.168.80.4:40653) with 1 core(s)',\n  '23/09/06 02:34:45 INFO StandaloneSchedulerBackend: Granted executor ID app-20230906023445-0000/1 on hostPort 192.168.80.4:40653 with 1 core(s), 1024.0 MiB RAM',\n  '23/09/06 02:34:45 INFO StandaloneSchedulerBackend: SchedulerBackend is ready for scheduling beginning after reached minRegisteredResourcesRatio: 0.0',\n  '23/09/06 02:34:45 INFO SparkEntries: Spark context finished initialization in 2552ms',\n  '23/09/06 02:34:46 INFO StandaloneAppClient$ClientEndpoint: Executor updated: app-20230906023445-0000/1 is now RUNNING',\n  '23/09/06 02:34:46 INFO StandaloneAppClient$ClientEndpoint: Executor updated: app-20230906023445-0000/0 is now RUNNING',\n  '23/09/06 02:34:46 INFO SparkEntries: Created Spark session.'],\n 'ttl': None,\n 'driverMemory': None,\n 'driverCores': 0,\n 'executorMemory': None,\n 'executorCores': 0,\n 'conf': {},\n 'archives': [],\n 'files': [],\n 'heartbeatTimeoutInSecond': 0,\n 'jars': [],\n 'numExecutors': 0,\n 'pyFiles': [],\n 'queue': None}"
     },
     "execution_count": 88,
     "metadata": {},
     "output_type": "execute_result"
    }
   ],
   "source": [
    "r = requests.get(session_url, headers=headers)\n",
    "r.json()"
   ],
   "metadata": {
    "collapsed": false,
    "ExecuteTime": {
     "end_time": "2023-09-06T02:34:51.853455Z",
     "start_time": "2023-09-06T02:34:51.559503Z"
    }
   }
  },
  {
   "cell_type": "code",
   "execution_count": 90,
   "outputs": [
    {
     "name": "stdout",
     "output_type": "stream",
     "text": [
      "idle..."
     ]
    }
   ],
   "source": [
    "state = \"starting\"\n",
    "while state == 'starting':\n",
    "    r = requests.get(session_url, headers=headers)\n",
    "    state = dict(r.json())['state']\n",
    "    print(state, end=\"...\")"
   ],
   "metadata": {
    "collapsed": false,
    "ExecuteTime": {
     "end_time": "2023-09-06T02:35:10.943690Z",
     "start_time": "2023-09-06T02:35:10.850391Z"
    }
   }
  },
  {
   "cell_type": "code",
   "execution_count": 91,
   "outputs": [
    {
     "name": "stdout",
     "output_type": "stream",
     "text": [
      "http://localhost:8998/sessions/0/statements\n"
     ]
    }
   ],
   "source": [
    "statements_url = session_url + '/statements'\n",
    "print(statements_url)"
   ],
   "metadata": {
    "collapsed": false,
    "ExecuteTime": {
     "end_time": "2023-09-06T02:35:16.019657Z",
     "start_time": "2023-09-06T02:35:15.986899Z"
    }
   }
  },
  {
   "cell_type": "code",
   "execution_count": 92,
   "outputs": [
    {
     "data": {
      "text/plain": "{'id': 0,\n 'code': '1 + 1',\n 'state': 'waiting',\n 'output': None,\n 'progress': 0.0,\n 'started': 0,\n 'completed': 0}"
     },
     "execution_count": 92,
     "metadata": {},
     "output_type": "execute_result"
    }
   ],
   "source": [
    "data = {'code': '1 + 1'}\n",
    "r = requests.post(statements_url, data=json.dumps(data), headers=headers)\n",
    "r.json()"
   ],
   "metadata": {
    "collapsed": false,
    "ExecuteTime": {
     "end_time": "2023-09-06T02:35:17.621762Z",
     "start_time": "2023-09-06T02:35:16.880544Z"
    }
   }
  },
  {
   "cell_type": "code",
   "execution_count": 52,
   "outputs": [
    {
     "ename": "KeyError",
     "evalue": "'location'",
     "output_type": "error",
     "traceback": [
      "\u001B[0;31m---------------------------------------------------------------------------\u001B[0m",
      "\u001B[0;31mKeyError\u001B[0m                                  Traceback (most recent call last)",
      "Cell \u001B[0;32mIn[52], line 1\u001B[0m\n\u001B[0;32m----> 1\u001B[0m statement_url \u001B[38;5;241m=\u001B[39m host \u001B[38;5;241m+\u001B[39m \u001B[43mr\u001B[49m\u001B[38;5;241;43m.\u001B[39;49m\u001B[43mheaders\u001B[49m\u001B[43m[\u001B[49m\u001B[38;5;124;43m'\u001B[39;49m\u001B[38;5;124;43mlocation\u001B[39;49m\u001B[38;5;124;43m'\u001B[39;49m\u001B[43m]\u001B[49m\n\u001B[1;32m      2\u001B[0m \u001B[38;5;28mprint\u001B[39m(statement_url)\n\u001B[1;32m      3\u001B[0m r \u001B[38;5;241m=\u001B[39m requests\u001B[38;5;241m.\u001B[39mget(statement_url, headers\u001B[38;5;241m=\u001B[39mheaders)\n",
      "File \u001B[0;32m~/opt/anaconda3/envs/py11_feast/lib/python3.11/site-packages/requests/structures.py:52\u001B[0m, in \u001B[0;36mCaseInsensitiveDict.__getitem__\u001B[0;34m(self, key)\u001B[0m\n\u001B[1;32m     51\u001B[0m \u001B[38;5;28;01mdef\u001B[39;00m \u001B[38;5;21m__getitem__\u001B[39m(\u001B[38;5;28mself\u001B[39m, key):\n\u001B[0;32m---> 52\u001B[0m     \u001B[38;5;28;01mreturn\u001B[39;00m \u001B[38;5;28;43mself\u001B[39;49m\u001B[38;5;241;43m.\u001B[39;49m\u001B[43m_store\u001B[49m\u001B[43m[\u001B[49m\u001B[43mkey\u001B[49m\u001B[38;5;241;43m.\u001B[39;49m\u001B[43mlower\u001B[49m\u001B[43m(\u001B[49m\u001B[43m)\u001B[49m\u001B[43m]\u001B[49m[\u001B[38;5;241m1\u001B[39m]\n",
      "\u001B[0;31mKeyError\u001B[0m: 'location'"
     ]
    }
   ],
   "source": [
    "statement_url = host + r.headers['location']\n",
    "print(statement_url)\n",
    "r = requests.get(statement_url, headers=headers)\n",
    "pprint.pprint(r.json())"
   ],
   "metadata": {
    "collapsed": false,
    "ExecuteTime": {
     "end_time": "2023-09-05T07:24:16.342394Z",
     "start_time": "2023-09-05T07:24:16.318034Z"
    }
   }
  },
  {
   "cell_type": "code",
   "execution_count": null,
   "outputs": [],
   "source": [],
   "metadata": {
    "collapsed": false
   }
  }
 ],
 "metadata": {
  "kernelspec": {
   "display_name": "Python 3",
   "language": "python",
   "name": "python3"
  },
  "language_info": {
   "codemirror_mode": {
    "name": "ipython",
    "version": 2
   },
   "file_extension": ".py",
   "mimetype": "text/x-python",
   "name": "python",
   "nbconvert_exporter": "python",
   "pygments_lexer": "ipython2",
   "version": "2.7.6"
  }
 },
 "nbformat": 4,
 "nbformat_minor": 0
}
