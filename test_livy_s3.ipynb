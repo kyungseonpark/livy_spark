{
 "cells": [
  {
   "cell_type": "code",
   "execution_count": 1,
   "metadata": {
    "collapsed": true,
    "ExecuteTime": {
     "end_time": "2023-09-13T07:16:40.236843Z",
     "start_time": "2023-09-13T07:16:40.168641Z"
    }
   },
   "outputs": [],
   "source": [
    "import json, pprint, requests, textwrap"
   ]
  },
  {
   "cell_type": "code",
   "execution_count": 27,
   "outputs": [],
   "source": [
    "host = 'http://localhost:8998'\n",
    "data = {'kind': 'pyspark'}\n",
    "headers = {'Content-Type': 'application/json'}"
   ],
   "metadata": {
    "collapsed": false,
    "ExecuteTime": {
     "end_time": "2023-09-13T07:40:25.538983Z",
     "start_time": "2023-09-13T07:40:25.533336Z"
    }
   }
  },
  {
   "cell_type": "code",
   "execution_count": 28,
   "outputs": [
    {
     "data": {
      "text/plain": "{'id': 1,\n 'name': None,\n 'appId': None,\n 'owner': None,\n 'proxyUser': None,\n 'state': 'starting',\n 'kind': 'pyspark',\n 'appInfo': {'driverLogUrl': None, 'sparkUiUrl': None},\n 'log': ['stdout: ', '\\nstderr: '],\n 'ttl': None,\n 'driverMemory': None,\n 'driverCores': 0,\n 'executorMemory': None,\n 'executorCores': 0,\n 'conf': {},\n 'archives': [],\n 'files': [],\n 'heartbeatTimeoutInSecond': 0,\n 'jars': [],\n 'numExecutors': 0,\n 'pyFiles': [],\n 'queue': None}"
     },
     "execution_count": 28,
     "metadata": {},
     "output_type": "execute_result"
    }
   ],
   "source": [
    "r = requests.post(host + '/sessions', data=json.dumps(data), headers=headers)\n",
    "r.json()"
   ],
   "metadata": {
    "collapsed": false,
    "ExecuteTime": {
     "end_time": "2023-09-13T07:40:26.286276Z",
     "start_time": "2023-09-13T07:40:26.052339Z"
    }
   }
  },
  {
   "cell_type": "code",
   "execution_count": 29,
   "outputs": [],
   "source": [
    "session_url = host + r.headers['location']"
   ],
   "metadata": {
    "collapsed": false,
    "ExecuteTime": {
     "end_time": "2023-09-13T07:40:26.938924Z",
     "start_time": "2023-09-13T07:40:26.932658Z"
    }
   }
  },
  {
   "cell_type": "code",
   "execution_count": 30,
   "outputs": [
    {
     "name": "stdout",
     "output_type": "stream",
     "text": [
      "http://192.168.0.205:40010/sessions/1\n"
     ]
    }
   ],
   "source": [
    "print(session_url)"
   ],
   "metadata": {
    "collapsed": false,
    "ExecuteTime": {
     "end_time": "2023-09-13T07:40:27.491516Z",
     "start_time": "2023-09-13T07:40:27.485008Z"
    }
   }
  },
  {
   "cell_type": "code",
   "execution_count": 31,
   "outputs": [
    {
     "data": {
      "text/plain": "{'id': 1,\n 'name': None,\n 'appId': None,\n 'owner': None,\n 'proxyUser': None,\n 'state': 'dead',\n 'kind': 'pyspark',\n 'appInfo': {'driverLogUrl': None, 'sparkUiUrl': None},\n 'log': ['\\tat io.netty.buffer.AbstractByteBuf.writeBytes(AbstractByteBuf.java:1132)',\n  '\\tat io.netty.channel.socket.nio.NioSocketChannel.doReadBytes(NioSocketChannel.java:350)',\n  '\\tat io.netty.channel.nio.AbstractNioByteChannel$NioByteUnsafe.read(AbstractNioByteChannel.java:151)',\n  '\\tat io.netty.channel.nio.NioEventLoop.processSelectedKey(NioEventLoop.java:719)',\n  '\\tat io.netty.channel.nio.NioEventLoop.processSelectedKeysOptimized(NioEventLoop.java:655)',\n  '\\tat io.netty.channel.nio.NioEventLoop.processSelectedKeys(NioEventLoop.java:581)',\n  '\\tat io.netty.channel.nio.NioEventLoop.run(NioEventLoop.java:493)',\n  '\\tat io.netty.util.concurrent.SingleThreadEventExecutor$4.run(SingleThreadEventExecutor.java:986)',\n  '\\tat io.netty.util.internal.ThreadExecutorMap$2.run(ThreadExecutorMap.java:74)',\n  '\\tat java.lang.Thread.run(Thread.java:750)'],\n 'ttl': None,\n 'driverMemory': None,\n 'driverCores': 0,\n 'executorMemory': None,\n 'executorCores': 0,\n 'conf': {},\n 'archives': [],\n 'files': [],\n 'heartbeatTimeoutInSecond': 0,\n 'jars': [],\n 'numExecutors': 0,\n 'pyFiles': [],\n 'queue': None}"
     },
     "execution_count": 31,
     "metadata": {},
     "output_type": "execute_result"
    }
   ],
   "source": [
    "r = requests.get(session_url, headers=headers)\n",
    "r.json()"
   ],
   "metadata": {
    "collapsed": false,
    "ExecuteTime": {
     "end_time": "2023-09-13T07:40:28.215023Z",
     "start_time": "2023-09-13T07:40:28.103928Z"
    }
   }
  },
  {
   "cell_type": "code",
   "execution_count": 32,
   "outputs": [
    {
     "name": "stdout",
     "output_type": "stream",
     "text": [
      "dead..."
     ]
    }
   ],
   "source": [
    "state = \"starting\"\n",
    "while state == 'starting':\n",
    "    r = requests.get(session_url, headers=headers)\n",
    "    state = dict(r.json())['state']\n",
    "    print(state, end=\"...\")"
   ],
   "metadata": {
    "collapsed": false,
    "ExecuteTime": {
     "end_time": "2023-09-13T07:40:31.709256Z",
     "start_time": "2023-09-13T07:40:31.590296Z"
    }
   }
  },
  {
   "cell_type": "code",
   "execution_count": 91,
   "outputs": [
    {
     "name": "stdout",
     "output_type": "stream",
     "text": [
      "http://localhost:8998/sessions/0/statements\n"
     ]
    }
   ],
   "source": [
    "statements_url = session_url + '/statements'\n",
    "print(statements_url)"
   ],
   "metadata": {
    "collapsed": false,
    "ExecuteTime": {
     "end_time": "2023-09-06T02:35:16.019657Z",
     "start_time": "2023-09-06T02:35:15.986899Z"
    }
   }
  },
  {
   "cell_type": "code",
   "execution_count": 92,
   "outputs": [
    {
     "data": {
      "text/plain": "{'id': 0,\n 'code': '1 + 1',\n 'state': 'waiting',\n 'output': None,\n 'progress': 0.0,\n 'started': 0,\n 'completed': 0}"
     },
     "execution_count": 92,
     "metadata": {},
     "output_type": "execute_result"
    }
   ],
   "source": [
    "data = {'code': '1 + 1'}\n",
    "r = requests.post(statements_url, data=json.dumps(data), headers=headers)\n",
    "r.json()"
   ],
   "metadata": {
    "collapsed": false,
    "ExecuteTime": {
     "end_time": "2023-09-06T02:35:17.621762Z",
     "start_time": "2023-09-06T02:35:16.880544Z"
    }
   }
  },
  {
   "cell_type": "code",
   "execution_count": 52,
   "outputs": [
    {
     "ename": "KeyError",
     "evalue": "'location'",
     "output_type": "error",
     "traceback": [
      "\u001B[0;31m---------------------------------------------------------------------------\u001B[0m",
      "\u001B[0;31mKeyError\u001B[0m                                  Traceback (most recent call last)",
      "Cell \u001B[0;32mIn[52], line 1\u001B[0m\n\u001B[0;32m----> 1\u001B[0m statement_url \u001B[38;5;241m=\u001B[39m host \u001B[38;5;241m+\u001B[39m \u001B[43mr\u001B[49m\u001B[38;5;241;43m.\u001B[39;49m\u001B[43mheaders\u001B[49m\u001B[43m[\u001B[49m\u001B[38;5;124;43m'\u001B[39;49m\u001B[38;5;124;43mlocation\u001B[39;49m\u001B[38;5;124;43m'\u001B[39;49m\u001B[43m]\u001B[49m\n\u001B[1;32m      2\u001B[0m \u001B[38;5;28mprint\u001B[39m(statement_url)\n\u001B[1;32m      3\u001B[0m r \u001B[38;5;241m=\u001B[39m requests\u001B[38;5;241m.\u001B[39mget(statement_url, headers\u001B[38;5;241m=\u001B[39mheaders)\n",
      "File \u001B[0;32m~/opt/anaconda3/envs/py11_feast/lib/python3.11/site-packages/requests/structures.py:52\u001B[0m, in \u001B[0;36mCaseInsensitiveDict.__getitem__\u001B[0;34m(self, key)\u001B[0m\n\u001B[1;32m     51\u001B[0m \u001B[38;5;28;01mdef\u001B[39;00m \u001B[38;5;21m__getitem__\u001B[39m(\u001B[38;5;28mself\u001B[39m, key):\n\u001B[0;32m---> 52\u001B[0m     \u001B[38;5;28;01mreturn\u001B[39;00m \u001B[38;5;28;43mself\u001B[39;49m\u001B[38;5;241;43m.\u001B[39;49m\u001B[43m_store\u001B[49m\u001B[43m[\u001B[49m\u001B[43mkey\u001B[49m\u001B[38;5;241;43m.\u001B[39;49m\u001B[43mlower\u001B[49m\u001B[43m(\u001B[49m\u001B[43m)\u001B[49m\u001B[43m]\u001B[49m[\u001B[38;5;241m1\u001B[39m]\n",
      "\u001B[0;31mKeyError\u001B[0m: 'location'"
     ]
    }
   ],
   "source": [
    "statement_url = host + r.headers['location']\n",
    "print(statement_url)\n",
    "r = requests.get(statement_url, headers=headers)\n",
    "pprint.pprint(r.json())"
   ],
   "metadata": {
    "collapsed": false,
    "ExecuteTime": {
     "end_time": "2023-09-05T07:24:16.342394Z",
     "start_time": "2023-09-05T07:24:16.318034Z"
    }
   }
  },
  {
   "cell_type": "code",
   "execution_count": null,
   "outputs": [],
   "source": [],
   "metadata": {
    "collapsed": false
   }
  }
 ],
 "metadata": {
  "kernelspec": {
   "display_name": "Python 3",
   "language": "python",
   "name": "python3"
  },
  "language_info": {
   "codemirror_mode": {
    "name": "ipython",
    "version": 2
   },
   "file_extension": ".py",
   "mimetype": "text/x-python",
   "name": "python",
   "nbconvert_exporter": "python",
   "pygments_lexer": "ipython2",
   "version": "2.7.6"
  }
 },
 "nbformat": 4,
 "nbformat_minor": 0
}
